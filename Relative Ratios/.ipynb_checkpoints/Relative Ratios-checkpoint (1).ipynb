{
 "cells": [
  {
   "cell_type": "code",
   "execution_count": 84,
   "metadata": {},
   "outputs": [
    {
     "name": "stdout",
     "output_type": "stream",
     "text": [
      "['.ipynb_checkpoints', 'Example_data_1.csv', 'Relative Ratios.ipynb']\n"
     ]
    }
   ],
   "source": [
    "import pandas as pd\n",
    "import os\n",
    "import \n",
    "print(os.listdir())"
   ]
  },
  {
   "cell_type": "code",
   "execution_count": 20,
   "metadata": {},
   "outputs": [],
   "source": [
    "result = pd.read_csv('Example_data_1.csv')"
   ]
  },
  {
   "cell_type": "code",
   "execution_count": 80,
   "metadata": {},
   "outputs": [
    {
     "name": "stdout",
     "output_type": "stream",
     "text": [
      "[[0.33, 0.35], [0.081, 0.91], [0.029, 0.98], [0.28, 0.31], [0.17, 0.56], [0.32, 0.89], [0.21, 0.78], [0.46, 0.77], [0.49, 0.67], [0.28, 0.31], [0.43, 0.15], [0.094, 0.53], [0.2, 0.47], [0.32, 0.44], [0.41, 0.34], [0.47, 0.28], [0.57, 0.16]] [0.79, 0.089, 0.0096, 0.89, 0.26, 0.48, 0.24, 0.8, 0.79, 0.89, 2.5, 0.19, 0.53, 1.0, 1.1, 1.9, 3.7]\n"
     ]
    }
   ],
   "source": [
    "xdata = []\n",
    "ydata = []\n",
    "for i in range(len(result)):\n",
    "    xdata.append([result['M10'][i],result['M20'][i]])\n",
    "    ydata.append(result['dM1/dM2'][i])\n",
    "print(xdata,ydata)"
   ]
  },
  {
   "cell_type": "code",
   "execution_count": 15,
   "metadata": {},
   "outputs": [],
   "source": [
    "def func(x,r1,r2):\n",
    "    return (x[0]*(r1*x[0]+x[1]))/(x[1]*(r2*x[1]+x[0]))"
   ]
  },
  {
   "cell_type": "code",
   "execution_count": null,
   "metadata": {},
   "outputs": [],
   "source": []
  }
 ],
 "metadata": {
  "kernelspec": {
   "display_name": "Python 3",
   "language": "python",
   "name": "python3"
  },
  "language_info": {
   "codemirror_mode": {
    "name": "ipython",
    "version": 3
   },
   "file_extension": ".py",
   "mimetype": "text/x-python",
   "name": "python",
   "nbconvert_exporter": "python",
   "pygments_lexer": "ipython3",
   "version": "3.9.0"
  }
 },
 "nbformat": 4,
 "nbformat_minor": 4
}
