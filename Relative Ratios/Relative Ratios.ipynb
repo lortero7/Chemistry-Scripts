{
 "cells": [
  {
   "cell_type": "code",
   "execution_count": 1,
   "metadata": {},
   "outputs": [
    {
     "name": "stdout",
     "output_type": "stream",
     "text": [
      "['.ipynb_checkpoints', 'data', 'Example_data_1.csv', 'Example_data_2.csv', 'Relative Ratios.ipynb']\n"
     ]
    }
   ],
   "source": [
    "import pandas as pd\n",
    "import os\n",
    "from scipy import optimize\n",
    "import numpy as np\n",
    "print(os.listdir())"
   ]
  },
  {
   "cell_type": "code",
   "execution_count": 11,
   "metadata": {},
   "outputs": [
    {
     "name": "stdout",
     "output_type": "stream",
     "text": [
      "      M10   M20  dM1/dM2\n",
      "0   0.330  0.35   0.7900\n",
      "1   0.081  0.91   0.0890\n",
      "2   0.029  0.98   0.0096\n",
      "3   0.280  0.31   0.8900\n",
      "4   0.170  0.56   0.2600\n",
      "5   0.320  0.89   0.4800\n",
      "6   0.210  0.78   0.2400\n",
      "7   0.460  0.77   0.8000\n",
      "8   0.490  0.67   0.7900\n",
      "9   0.280  0.31   0.8900\n",
      "10  0.430  0.15   2.5000\n",
      "11  0.094  0.53   0.1900\n",
      "12  0.200  0.47   0.5300\n",
      "13  0.320  0.44   1.0000\n",
      "14  0.410  0.34   1.1000\n",
      "15  0.470  0.28   1.9000\n",
      "16  0.570  0.16   3.7000\n"
     ]
    }
   ],
   "source": [
    "result = pd.read_csv('Example_data_1.csv')\n",
    "print(result)"
   ]
  },
  {
   "cell_type": "code",
   "execution_count": 18,
   "metadata": {},
   "outputs": [
    {
     "data": {
      "text/plain": [
       "array([0.93159438, 0.85424374])"
      ]
     },
     "execution_count": 18,
     "metadata": {},
     "output_type": "execute_result"
    }
   ],
   "source": [
    "#use this cell if you are fitting concentration data\n",
    "result = pd.read_csv('Example_data_1.csv')\n",
    "\n",
    "M1 = []\n",
    "M2 = []\n",
    "D = []\n",
    "for i in range(len(result)):\n",
    "    M1.append(result['M10'][i])\n",
    "    M2.append(result['M20'][i])\n",
    "    D.append(result['dM1/dM2'][i])\n",
    "M10 = np.array(M1, dtype = float)\n",
    "M20 = np.array(M2, dtype = float)\n",
    "DM = np.array(D,dtype = float)\n",
    "\n",
    "def func(x,r1,r2):\n",
    "    m1,m2 = x\n",
    "    return (m1*(r1*m1+m2))/(m2*(r2*m2+m1))\n",
    "\n",
    "popt, pcov = optimize.curve_fit(func, (M10,M20), DM)\n",
    "popt"
   ]
  },
  {
   "cell_type": "code",
   "execution_count": 16,
   "metadata": {},
   "outputs": [
    {
     "data": {
      "text/plain": [
       "array([1.55384072, 0.51868127])"
      ]
     },
     "execution_count": 16,
     "metadata": {},
     "output_type": "execute_result"
    }
   ],
   "source": [
    "#use this cell if you are fitting mole fraction data\n",
    "result_mole = pd.read_csv('Example_data_2.csv')\n",
    "\n",
    "f2 = []\n",
    "F2 = []\n",
    "for i in range(len(result_mole)):\n",
    "    f2.append(result_mole['f2'][i])\n",
    "    F2.append(result_mole['F2'][i])\n",
    "f2 = np.array(f2, dtype = float)\n",
    "F2 = np.array(F2, dtype = float)\n",
    "\n",
    "def func(f2,r1,r2):\n",
    "    return (r2*f2**2 + f2*(1-f2))/(r2*f2**2 +2*f2*(1-f2)+r1*(1-f2)**2)\n",
    "\n",
    "popt, pcov = optimize.curve_fit(func, f2, F2)\n",
    "popt"
   ]
  },
  {
   "cell_type": "code",
   "execution_count": 17,
   "metadata": {},
   "outputs": [
    {
     "name": "stdout",
     "output_type": "stream",
     "text": [
      "[0.18749835 0.30050164 0.34621677 0.39778654 0.4778415  0.57238447\n",
      " 0.63699606 0.77268526]\n",
      "[0.192 0.295 0.351 0.408 0.467 0.576 0.622 0.787]\n"
     ]
    }
   ],
   "source": [
    "test = func(f2,1.56,0.52)\n",
    "print(test)\n",
    "print(F2)"
   ]
  },
  {
   "cell_type": "code",
   "execution_count": null,
   "metadata": {},
   "outputs": [],
   "source": []
  }
 ],
 "metadata": {
  "kernelspec": {
   "display_name": "Python 3",
   "language": "python",
   "name": "python3"
  },
  "language_info": {
   "codemirror_mode": {
    "name": "ipython",
    "version": 3
   },
   "file_extension": ".py",
   "mimetype": "text/x-python",
   "name": "python",
   "nbconvert_exporter": "python",
   "pygments_lexer": "ipython3",
   "version": "3.8.8"
  }
 },
 "nbformat": 4,
 "nbformat_minor": 4
}
